{
 "cells": [
  {
   "cell_type": "markdown",
   "id": "4bd34016-f890-4bc8-a594-d744e75634ad",
   "metadata": {},
   "source": [
    "# Data Science Tools and Ecosystem\\"
   ]
  },
  {
   "cell_type": "markdown",
   "id": "90e22276-4166-4f54-b9ca-7d3495e39bd7",
   "metadata": {},
   "source": [
    "Some of the popular languages that Data Scientists use are:\n",
    "1. Python\n",
    "2. SQL\n",
    "3. R"
   ]
  },
  {
   "cell_type": "markdown",
   "id": "418bf226-843d-457a-a73f-c5f19f595eb2",
   "metadata": {},
   "source": [
    "In this notebook, Data Science Tools and Ecosystem are summarized."
   ]
  },
  {
   "cell_type": "markdown",
   "id": "6e58d23f-1ea6-4b5d-8f08-9b4c911b1eb3",
   "metadata": {},
   "source": [
    "<b>Objectives:\n",
    "\n",
    "1. data science tools\n",
    "2. data science languages\n",
    "3. data science libraries\n",
    "4. arithmetics in python\n",
    "5. minute to hour conversion"
   ]
  },
  {
   "cell_type": "markdown",
   "id": "68a661d2-4510-4356-85dc-a0902bdc9bbb",
   "metadata": {},
   "source": [
    "Some of the commonly used libraries used by Data Scientists include:\n",
    "1. numpy\n",
    "2. pandas\n",
    "3. matplotlib\r\n"
   ]
  },
  {
   "cell_type": "markdown",
   "id": "113bfd21-5bfd-4299-acc2-968f01189ac6",
   "metadata": {},
   "source": [
    "| Data Science Tools | \r\n",
    "| :--- |\r\n",
    "Jupyter notebookxt\n",
    "| R Studio |\n",
    "| My SQL | |"
   ]
  },
  {
   "cell_type": "markdown",
   "id": "1db42189-70ed-4391-bfdd-4f175d0853e1",
   "metadata": {},
   "source": [
    "Below are a few examples of evaluating arithmetic expressions in Python:\n",
    "1. +\n",
    "2. -\n",
    "3. *\n",
    "4. /\n",
    "5. //"
   ]
  },
  {
   "cell_type": "code",
   "execution_count": 2,
   "id": "b4fea6f5-75ab-4af1-af32-573bbeffc563",
   "metadata": {},
   "outputs": [
    {
     "data": {
      "text/plain": [
       "17"
      ]
     },
     "execution_count": 2,
     "metadata": {},
     "output_type": "execute_result"
    }
   ],
   "source": [
    "# his a simple arithmetic expression to mutiply then add integers\n",
    "(3*4)+5\n"
   ]
  },
  {
   "cell_type": "code",
   "execution_count": 10,
   "id": "173fc1c3-819d-448c-8d3c-b5f5a78db877",
   "metadata": {},
   "outputs": [
    {
     "name": "stdin",
     "output_type": "stream",
     "text": [
      "What minutes have passed:  200\n"
     ]
    },
    {
     "name": "stdout",
     "output_type": "stream",
     "text": [
      "3.3333333333333335\n"
     ]
    }
   ],
   "source": [
    "#this will convert 200 minutes to hours by diving by 60\n",
    "minutes = int(input(\"What minutes have passed: \"))\n",
    "\n",
    "hours = minutes/60\n",
    "print(hours)"
   ]
  },
  {
   "cell_type": "markdown",
   "id": "4ee20cb9-5819-46d2-b097-7cbd86286566",
   "metadata": {},
   "source": [
    "## Author:\n",
    "Nkosilathi Munyanyiwa"
   ]
  },
  {
   "cell_type": "code",
   "execution_count": null,
   "id": "631afea2-d380-4c44-b393-5dfca8d7e1e5",
   "metadata": {},
   "outputs": [],
   "source": []
  }
 ],
 "metadata": {
  "kernelspec": {
   "display_name": "Python 3 (ipykernel)",
   "language": "python",
   "name": "python3"
  },
  "language_info": {
   "codemirror_mode": {
    "name": "ipython",
    "version": 3
   },
   "file_extension": ".py",
   "mimetype": "text/x-python",
   "name": "python",
   "nbconvert_exporter": "python",
   "pygments_lexer": "ipython3",
   "version": "3.11.7"
  }
 },
 "nbformat": 4,
 "nbformat_minor": 5
}
